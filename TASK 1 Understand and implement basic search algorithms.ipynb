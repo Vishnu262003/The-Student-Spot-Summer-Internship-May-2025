{
 "cells": [
  {
   "cell_type": "code",
   "execution_count": 1,
   "id": "5a27f77e",
   "metadata": {},
   "outputs": [
    {
     "name": "stdout",
     "output_type": "stream",
     "text": [
      "BFS starting from A: A B C D E \n",
      "DFS starting from A: A B D E C \n",
      "Full BFS Traversal:\n",
      "A B C D E F G \n",
      "Full DFS Traversal:\n",
      "A B D E C F G \n"
     ]
    }
   ],
   "source": [
    "from collections import defaultdict, deque\n",
    "class Graph:\n",
    "    def __init__(self):\n",
    "        self.graph = defaultdict(list)\n",
    "    # Add edge to the graph (undirected by default)\n",
    "    def add_edge(self, u, v):\n",
    "        self.graph[u].append(v)\n",
    "        self.graph[v].append(u)\n",
    "    # Breadth-First Search\n",
    "    def bfs(self, start):\n",
    "        visited = set()\n",
    "        queue = deque([start])\n",
    "        print(f\"BFS starting from {start}: \", end=\"\")\n",
    "        while queue:\n",
    "            vertex = queue.popleft()\n",
    "            if vertex not in visited:\n",
    "                print(vertex, end=\" \")\n",
    "                visited.add(vertex)\n",
    "                for neighbor in self.graph[vertex]:\n",
    "                    if neighbor not in visited:\n",
    "                        queue.append(neighbor)\n",
    "        print()\n",
    "    # Depth-First Search (recursive)\n",
    "    def dfs_util(self, vertex, visited):\n",
    "        visited.add(vertex)\n",
    "        print(vertex, end=\" \")\n",
    "        for neighbor in self.graph[vertex]:\n",
    "            if neighbor not in visited:\n",
    "                self.dfs_util(neighbor, visited)\n",
    "    def dfs(self, start):\n",
    "        visited = set()\n",
    "        print(f\"DFS starting from {start}: \", end=\"\")\n",
    "        self.dfs_util(start, visited)\n",
    "        print()\n",
    "    # Function to print full traversal including disconnected components\n",
    "    def dfs_full(self):\n",
    "        visited = set()\n",
    "        print(\"Full DFS Traversal:\")\n",
    "        for vertex in self.graph:\n",
    "            if vertex not in visited:\n",
    "                self.dfs_util(vertex, visited)\n",
    "        print()\n",
    "    def bfs_full(self):\n",
    "        visited = set()\n",
    "        print(\"Full BFS Traversal:\")\n",
    "        for vertex in self.graph:\n",
    "            if vertex not in visited:\n",
    "                queue = deque([vertex])\n",
    "                while queue:\n",
    "                    v = queue.popleft()\n",
    "                    if v not in visited:\n",
    "                        print(v, end=\" \")\n",
    "                        visited.add(v)\n",
    "                        for neighbor in self.graph[v]:\n",
    "                            if neighbor not in visited:\n",
    "                                queue.append(neighbor)\n",
    "        print()\n",
    "if __name__ == \"__main__\":\n",
    "    g = Graph()\n",
    "    # Component 1\n",
    "    g.add_edge(\"A\", \"B\")\n",
    "    g.add_edge(\"A\", \"C\")\n",
    "    g.add_edge(\"B\", \"D\")\n",
    "    g.add_edge(\"D\", \"E\")\n",
    "    # Component 2\n",
    "    g.add_edge(\"F\", \"G\")\n",
    "    g.bfs(\"A\")     # BFS from A\n",
    "    g.dfs(\"A\")     # DFS from A\n",
    "    g.bfs_full()   # BFS of all components\n",
    "    g.dfs_full()   # DFS of all components"
   ]
  }
 ],
 "metadata": {
  "kernelspec": {
   "display_name": "Python 3 (ipykernel)",
   "language": "python",
   "name": "python3"
  },
  "language_info": {
   "codemirror_mode": {
    "name": "ipython",
    "version": 3
   },
   "file_extension": ".py",
   "mimetype": "text/x-python",
   "name": "python",
   "nbconvert_exporter": "python",
   "pygments_lexer": "ipython3",
   "version": "3.11.7"
  }
 },
 "nbformat": 4,
 "nbformat_minor": 5
}
